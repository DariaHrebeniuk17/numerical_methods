{
  "nbformat": 4,
  "nbformat_minor": 0,
  "metadata": {
    "colab": {
      "provenance": [],
      "authorship_tag": "ABX9TyPTNx/RcFchVPBHXIbbEDDn",
      "include_colab_link": true
    },
    "kernelspec": {
      "name": "python3",
      "display_name": "Python 3"
    },
    "language_info": {
      "name": "python"
    }
  },
  "cells": [
    {
      "cell_type": "markdown",
      "metadata": {
        "id": "view-in-github",
        "colab_type": "text"
      },
      "source": [
        "<a href=\"https://colab.research.google.com/github/DariaHrebeniuk17/numerical_methods/blob/main/%D0%9B%D0%B0%D0%B13_%D0%93%D1%80%D0%B5%D0%B1%D0%B5%D0%BD%D1%8E%D0%BA_%D0%94%D0%B0%D1%80'%D1%8F_%D0%A4%D0%86%D0%A2_2_8.ipynb\" target=\"_parent\"><img src=\"https://colab.research.google.com/assets/colab-badge.svg\" alt=\"Open In Colab\"/></a>"
      ]
    },
    {
      "cell_type": "markdown",
      "source": [
        "Лабораторна робота 3. Чисельні методи розв'язання нелінійних рівнянь. Уточнення кореня нелінійного рівняння. Метод Ньютона(метод дотичних).Комбінований метод.\n",
        "Гребенюк Д.С, ФІТ 2-8, Варіант 5"
      ],
      "metadata": {
        "id": "-PXg3W0eJ5hJ"
      }
    },
    {
      "cell_type": "markdown",
      "source": [
        "Розв'язання рівняння(4.5x ^ 4 - 4x ^ 3 + 1.5x ^ 2 - 2x - 7 = 0) за допомогою метода Ньютона"
      ],
      "metadata": {
        "id": "EFGdmbtAKbP4"
      }
    },
    {
      "cell_type": "code",
      "source": [
        "import sympy as sp\n",
        "\n",
        "x = sp.symbols('x')\n",
        "f = 4.5*x**4 - 4*x**3 + 1.5*x**2 - 2*x - 7\n",
        "\n",
        "f_prime = sp.diff(f, x)\n",
        "\n",
        "def newton_raphson(f, f_prime, x0, tol=1e-7, max_iter=100):\n",
        "    for i in range(max_iter):\n",
        "        f_value = f.subs(x, x0)\n",
        "        f_prime_value = f_prime.subs(x, x0)\n",
        "        if f_prime_value == 0:\n",
        "            print(\"Нульова похідна. Рішення не знайдено.\")\n",
        "            return None\n",
        "        x1 = x0 - f_value/f_prime_value\n",
        "        if abs(x1 - x0) < tol:\n",
        "            return x1\n",
        "        x0 = x1\n",
        "    print(\"Перевищено максимальну кількість ітерацій.Рішення не знайдено.\")\n",
        "    return None\n",
        "\n",
        "x0 = 1\n",
        "\n",
        "root = newton_raphson(f, f_prime, x0)\n",
        "\n",
        "print(f\"Корінь, знайдений методом Ньютона: {root}\")\n"
      ],
      "metadata": {
        "colab": {
          "base_uri": "https://localhost:8080/"
        },
        "id": "9sqdG2frKtmM",
        "outputId": "4919d00b-1e44-40ec-d107-24d90e5133e4"
      },
      "execution_count": 2,
      "outputs": [
        {
          "output_type": "stream",
          "name": "stdout",
          "text": [
            "Корінь, знайдений методом Ньютона: 1.41905775017227\n"
          ]
        }
      ]
    },
    {
      "cell_type": "markdown",
      "source": [
        "Розв'язання рівняння(4.5x ^ 4 - 4x ^ 3 + 1.5x ^ 2 - 2x - 7 = 0) за комбінованим методом"
      ],
      "metadata": {
        "id": "H-CHsmaTLpnG"
      }
    },
    {
      "cell_type": "code",
      "source": [
        "import sympy as sp\n",
        "\n",
        "x = sp.symbols('x')\n",
        "f = 4.5*x**4 - 4*x**3 + 1.5*x**2 - 2*x - 7\n",
        "\n",
        "f_prime = sp.diff(f, x)\n",
        "\n",
        "def bisection(f, a, b, tol=1e-7, max_iter=100):\n",
        "    if f.subs(x, a) * f.subs(x, b) >= 0:\n",
        "        print(\"Метод розділення навпіл не дає змоги.\")\n",
        "        return None\n",
        "    a_n = a\n",
        "    b_n = b\n",
        "    for n in range(1, max_iter + 1):\n",
        "        m_n = (a_n + b_n) / 2\n",
        "        f_m_n = f.subs(x, m_n)\n",
        "        if abs(f_m_n) < tol:\n",
        "            return m_n\n",
        "        elif f.subs(x, a_n) * f_m_n < 0:\n",
        "            b_n = m_n\n",
        "        elif f.subs(x, b_n) * f_m_n < 0:\n",
        "            a_n = m_n\n",
        "        else:\n",
        "            print(\"Метод розділення навпіл не дає змоги.\")\n",
        "            return None\n",
        "    return (a_n + b_n) / 2\n",
        "\n",
        "def combined_method(f, f_prime, a, b, tol=1e-7, max_iter=100):\n",
        "    root_bisect = bisection(f, a, b, tol, max_iter)\n",
        "    if root_bisect is None:\n",
        "        return None\n",
        "    return newton_raphson(f, f_prime, root_bisect, tol, max_iter)\n",
        "\n",
        "a, b = 1, 2\n",
        "\n",
        "root_combined = combined_method(f, f_prime, a, b)\n",
        "\n",
        "print(f\"Корінь, знайдений комбінованим методом, такий: {root_combined}\")\n"
      ],
      "metadata": {
        "colab": {
          "base_uri": "https://localhost:8080/"
        },
        "id": "0dkv7v7kLxrW",
        "outputId": "e40f7191-1597-481a-c4fd-28d7c9dbf8ca"
      },
      "execution_count": 3,
      "outputs": [
        {
          "output_type": "stream",
          "name": "stdout",
          "text": [
            "Корінь, знайдений комбінованим методом, такий: 1.41905775017227\n"
          ]
        }
      ]
    }
  ]
}