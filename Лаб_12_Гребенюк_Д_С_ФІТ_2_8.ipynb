{
  "nbformat": 4,
  "nbformat_minor": 0,
  "metadata": {
    "colab": {
      "provenance": [],
      "include_colab_link": true
    },
    "kernelspec": {
      "name": "python3",
      "display_name": "Python 3"
    },
    "language_info": {
      "name": "python"
    }
  },
  "cells": [
    {
      "cell_type": "markdown",
      "metadata": {
        "id": "view-in-github",
        "colab_type": "text"
      },
      "source": [
        "<a href=\"https://colab.research.google.com/github/DariaHrebeniuk17/numerical_methods/blob/main/%D0%9B%D0%B0%D0%B1_12_%D0%93%D1%80%D0%B5%D0%B1%D0%B5%D0%BD%D1%8E%D0%BA_%D0%94_%D0%A1_%D0%A4%D0%86%D0%A2_2_8.ipynb\" target=\"_parent\"><img src=\"https://colab.research.google.com/assets/colab-badge.svg\" alt=\"Open In Colab\"/></a>"
      ]
    },
    {
      "cell_type": "markdown",
      "source": [
        "Лабораторна робота №12.Чисельне інтегрування. Гребенюк Д С ФІТ 2-8. Варіант 6"
      ],
      "metadata": {
        "id": "RFsZXyqzvarh"
      }
    },
    {
      "cell_type": "markdown",
      "source": [
        "Завдання 3. Визначити інтеграм методом трапецій"
      ],
      "metadata": {
        "id": "bkVnaWJ6vO8h"
      }
    },
    {
      "cell_type": "code",
      "source": [
        "#Обчислення інтегралу методом трапецій\n",
        "\n",
        "from scipy import integrate\n",
        "\n",
        "# Задаємо функцію, яку необхідно інтегрувати\n",
        "def f(x):\n",
        "    return 1 / sp.sqrt(12 * x**2 + 0.5)\n",
        "\n",
        "# Задаємо межі інтегрування та початкову кількість розбиттів\n",
        "a = 1.4\n",
        "b = 0.6\n",
        "n = 10\n",
        "\n",
        "# Обчислюємо значення інтегралу методом трапецій\n",
        "def trapezoidal_rule(f, a, b, n):\n",
        "    h = (b - a) / n\n",
        "    sum = 0.5 * (f(a) + f(b))\n",
        "    x = a\n",
        "\n",
        "    for i in range(1, n):\n",
        "        x += h\n",
        "        sum += f(x)\n",
        "\n",
        "    integral = h * sum\n",
        "\n",
        "    return integral\n",
        "\n",
        "# Виводимо результат методу трапецій\n",
        "integral = trapezoidal_rule(f, a, b, n)\n",
        "print(\"Trapetzia method result:\", round(integral, 5))\n",
        "\n",
        "# Перевірка за допомогою вбудованої функції\n",
        "v, err = integrate.quad(f, a, b)\n",
        "print(\"Check with SciPy quad method:\", round(v, 5))"
      ],
      "metadata": {
        "colab": {
          "base_uri": "https://localhost:8080/"
        },
        "id": "scjZgZaGxOW5",
        "outputId": "fa5ed224-55a1-4bda-aa15-f868f3a79606"
      },
      "execution_count": 8,
      "outputs": [
        {
          "output_type": "stream",
          "name": "stdout",
          "text": [
            "Trapetzia method result: -0.23839\n",
            "Check with SciPy quad method: -0.2381\n"
          ]
        }
      ]
    },
    {
      "cell_type": "markdown",
      "source": [
        "Завдання 1. Метод прямокутників (правих, лівих і середніх)"
      ],
      "metadata": {
        "id": "fKQyEy3uv2VX"
      }
    },
    {
      "cell_type": "code",
      "source": [
        "#Обчислення інтеграла методом прямокутників\n",
        "from scipy import integrate\n",
        "import numpy as np\n",
        "import sympy as sp\n",
        "\n",
        "a = 1.2\n",
        "b = 0.4\n",
        "n = 10\n",
        "h = (b - a) / n  # Крок\n",
        "\n",
        "def f1(x):\n",
        "    return 1 / sp.sqrt(0.5 * x + 2)\n",
        "\n",
        "# Метод лівих прямокутників\n",
        "def left_rec(f1, a, b):\n",
        "    sum = 0\n",
        "    for i in range(0, n):\n",
        "        sum += f1(a + i * h)\n",
        "    return sum * h\n",
        "\n",
        "print(\"Left rectangle:\", round(left_rec(f1, a, b), 5))\n",
        "\n",
        "# Метод правих прямокутників\n",
        "def right_rec(f1, a, b):\n",
        "    h2 = h / 2\n",
        "    sum = 0\n",
        "    for i in range(1, n + 1):\n",
        "        sum += f1(a + i * h)\n",
        "    return sum * h\n",
        "\n",
        "print(\"Right rectangle:\", round(right_rec(f1, a, b), 5))\n",
        "\n",
        "# Метод середніх прямокутників\n",
        "def aver_rec(f1, a, b):\n",
        "    sum = 0\n",
        "    for i in range(0, n):\n",
        "        sum += f1(a + (i + 0.5) * h)\n",
        "    return sum * h\n",
        "\n",
        "print(\"Average rectangle:\", round(aver_rec(f1, a, b), 5))\n",
        "\n",
        "# Перевірка за допомогою функції scipy\n",
        "v, err = integrate.quad(f1, a, b)\n",
        "print(\"Check with SciPy quad method:\", round(v, 5))\n",
        "\n"
      ],
      "metadata": {
        "colab": {
          "base_uri": "https://localhost:8080/"
        },
        "id": "jzRa6rb3v1Mu",
        "outputId": "6a149b5a-24fa-45b7-e74f-c194c61d8e70"
      },
      "execution_count": 5,
      "outputs": [
        {
          "output_type": "stream",
          "name": "stdout",
          "text": [
            "Left rectangle: -0.51470\n",
            "Right rectangle: -0.51902\n",
            "Average rectangle: -0.51684\n",
            "Check with SciPy quad method: -0.51685\n"
          ]
        }
      ]
    },
    {
      "cell_type": "markdown",
      "source": [
        "Завдання 2. Метод Симпсона"
      ],
      "metadata": {
        "id": "r9xzRufQxFRO"
      }
    },
    {
      "cell_type": "code",
      "source": [
        "#Обчислення інтеграла методом Симпсона\n",
        "from scipy import integrate\n",
        "import numpy as np\n",
        "\n",
        "# Задаємо функцію, яку необхідно інтегрувати\n",
        "def f(x):\n",
        "    return sp.sin(2*x) / x**2\n",
        "\n",
        "# Задаємо межі інтегрування та початкову кількість розбиттів\n",
        "a = 1.2\n",
        "b = 0.8\n",
        "n = 8\n",
        "h = (b - a) / n\n",
        "\n",
        "# Обчислюємо значення інтегралу методом Симпсона\n",
        "def simpson_rule(f, a, b, n):\n",
        "    integr = f(a) + f(b)\n",
        "    for i in range(1,n):\n",
        "        k = a + i*h\n",
        "        if i%2 == 0:\n",
        "            integr += 2 * f(k)\n",
        "        else:\n",
        "            integr += 4 * f(k)\n",
        "    integr *= h/3\n",
        "    return integr\n",
        "\n",
        "\n",
        "# Виводимо результат\n",
        "print(\"Simpsone method:\", round(simpson_rule(f, a, b, n), 3))\n",
        "\n",
        "v,err = integrate.quad(f,a,b)#Перевірка\n",
        "print(\"Check for the simpsone method= \",round(v, 3))\n"
      ],
      "metadata": {
        "colab": {
          "base_uri": "https://localhost:8080/"
        },
        "id": "FnvcjErXwrQy",
        "outputId": "898b9867-8aaf-47ca-ac75-bbc416b08656"
      },
      "execution_count": 6,
      "outputs": [
        {
          "output_type": "stream",
          "name": "stdout",
          "text": [
            "Simpsone method: -0.378\n",
            "Check for the simpsone method=  -0.378\n"
          ]
        }
      ]
    }
  ]
}