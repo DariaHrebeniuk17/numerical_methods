{
  "nbformat": 4,
  "nbformat_minor": 0,
  "metadata": {
    "colab": {
      "provenance": [],
      "authorship_tag": "ABX9TyP5msxPLH5DxWZQIOKQdqbn",
      "include_colab_link": true
    },
    "kernelspec": {
      "name": "python3",
      "display_name": "Python 3"
    },
    "language_info": {
      "name": "python"
    }
  },
  "cells": [
    {
      "cell_type": "markdown",
      "metadata": {
        "id": "view-in-github",
        "colab_type": "text"
      },
      "source": [
        "<a href=\"https://colab.research.google.com/github/DariaHrebeniuk17/numerical_methods/blob/main/%D0%9B%D0%B0%D0%B12_%D0%93%D1%80%D0%B5%D0%B1%D0%B5%D0%BD%D1%8E%D0%BA_%D0%94%D0%B0%D1%80'%D1%8F_%D0%A4%D0%86%D0%A2_2_8.ipynb\" target=\"_parent\"><img src=\"https://colab.research.google.com/assets/colab-badge.svg\" alt=\"Open In Colab\"/></a>"
      ]
    },
    {
      "cell_type": "markdown",
      "source": [
        "Лабораторна робота 1. Чисельні методи розв'язання нелінійних рівнянь.\n",
        "Гребенюк Д.С. ФІТ 2-8. Варіант 5"
      ],
      "metadata": {
        "id": "eeMZXb4e9c6s"
      }
    },
    {
      "cell_type": "markdown",
      "source": [
        "#Завдання\n",
        "Розв'язати нелінійне алгебраїчне рівняння f(x)=0 з точністю до 0,0001. Відокремлення коренів виконати аналітично. Уточнення коренів провести методом половинного ділення та методом хорд.\n",
        "Рівняння 4.5x ^ 4 - 4x ^ 3 + 1.5x ^ 2 - 2x - 7 = 0"
      ],
      "metadata": {
        "id": "buJtCOwd-1j5"
      }
    },
    {
      "cell_type": "code",
      "source": [
        "import numpy as np\n",
        "\n",
        "def f(x):\n",
        "    return 4.5 * x**4 - 4 * x**3 + 1.5 * x**2 - 2 * x - 7\n",
        "\n",
        "def bisection(a, b, tol=1e-4):\n",
        "    if f(a) * f(b) >= 0:\n",
        "        return None\n",
        "\n",
        "    while (b - a) / 2.0 > tol:\n",
        "        midpoint = (a + b) / 2.0\n",
        "        if f(midpoint) == 0:\n",
        "            return midpoint\n",
        "        elif f(a) * f(midpoint) < 0:\n",
        "            b = midpoint\n",
        "        else:\n",
        "            a = midpoint\n",
        "    return (a + b) / 2.0\n",
        "\n",
        "def secant(x0, x1, tol=1e-4, max_iter=100):\n",
        "    for i in range(max_iter):\n",
        "        if abs(f(x1) - f(x0)) < tol:\n",
        "            return None\n",
        "\n",
        "        x2 = x1 - f(x1) * (x1 - x0) / (f(x1) - f(x0))\n",
        "\n",
        "        if abs(x2 - x1) < tol:\n",
        "            return x2\n",
        "\n",
        "        x0 = x1\n",
        "        x1 = x2\n",
        "\n",
        "    return None\n",
        "\n",
        "roots_bisection = []\n",
        "roots_secant = []\n",
        "\n",
        "intervals = [(-2, -1), (-1, 0), (0, 1), (1, 2)]\n",
        "for interval in intervals:\n",
        "    root_bisection = bisection(interval[0], interval[1])\n",
        "    if root_bisection is not None:\n",
        "        roots_bisection.append(root_bisection)\n",
        "\n",
        "    root_secant = secant(interval[0], interval[1])\n",
        "    if root_secant is not None:\n",
        "        roots_secant.append(root_secant)\n",
        "\n",
        "print(\"Корені, знайдені методом половинного ділення:\", roots_bisection)\n",
        "print(\"Корені, знайдені методом хорд:\", roots_secant)\n"
      ],
      "metadata": {
        "colab": {
          "base_uri": "https://localhost:8080/"
        },
        "id": "8_VqlGce-5uh",
        "outputId": "248e5b28-4c5a-477a-a91f-5f991ea33fcc"
      },
      "execution_count": 1,
      "outputs": [
        {
          "output_type": "stream",
          "name": "stdout",
          "text": [
            "Корені, знайдені методом половинного ділення: [-0.82489013671875, 1.41900634765625]\n",
            "Корені, знайдені методом хорд: [-0.8249284868537489, -0.8249285221464733, 1.419057721325834]\n"
          ]
        }
      ]
    }
  ]
}