{
  "nbformat": 4,
  "nbformat_minor": 0,
  "metadata": {
    "colab": {
      "provenance": [],
      "authorship_tag": "ABX9TyPzgdCkXCKJNO8ryDtyCz1b",
      "include_colab_link": true
    },
    "kernelspec": {
      "name": "python3",
      "display_name": "Python 3"
    },
    "language_info": {
      "name": "python"
    }
  },
  "cells": [
    {
      "cell_type": "markdown",
      "metadata": {
        "id": "view-in-github",
        "colab_type": "text"
      },
      "source": [
        "<a href=\"https://colab.research.google.com/github/DariaHrebeniuk17/numerical_methods/blob/main/%D0%9B%D0%B0%D0%B14_%D0%93%D1%80%D0%B5%D0%B1%D0%B5%D0%BD%D1%8E%D0%BA_%D0%94_%D0%A1_%D0%A4%D0%86%D0%A2_2_8.ipynb\" target=\"_parent\"><img src=\"https://colab.research.google.com/assets/colab-badge.svg\" alt=\"Open In Colab\"/></a>"
      ]
    },
    {
      "cell_type": "markdown",
      "source": [
        "Лабораторна робота 4. Гребенюк Д. С. ФІТ 2-8. Варіант 5\n",
        "Елементи лінійної алгебри. Розв'язання систем лінійних алгебраїчних рівнянь.\n"
      ],
      "metadata": {
        "id": "jXcQCImArBMe"
      }
    },
    {
      "cell_type": "markdown",
      "source": [
        "#Завдання 1. Знайти матрицю C = AB - BA\n",
        "Вар 1(А)"
      ],
      "metadata": {
        "id": "Jd8YX3-usE0l"
      }
    },
    {
      "cell_type": "code",
      "source": [
        "import numpy as np\n",
        "\n",
        "A = np.array([[1, 2],\n",
        "             [4, -1]])\n",
        "B = np.array([[3, 1],\n",
        "             [2, 4]])\n",
        "\n",
        "C = np.dot(A, B) - np.dot(B, A)\n",
        "\n",
        "print(C)"
      ],
      "metadata": {
        "colab": {
          "base_uri": "https://localhost:8080/",
          "height": 0
        },
        "id": "noCBpDOIA0QK",
        "outputId": "62292d25-1174-4f28-97ba-bd7f163c21a1"
      },
      "execution_count": 3,
      "outputs": [
        {
          "output_type": "stream",
          "name": "stdout",
          "text": [
            "[[ 0  4]\n",
            " [-8  0]]\n"
          ]
        }
      ]
    },
    {
      "cell_type": "markdown",
      "source": [
        "Вар 1 (B)\n"
      ],
      "metadata": {
        "id": "eJ-jDollA9Mh"
      }
    },
    {
      "cell_type": "code",
      "source": [
        "import numpy as np\n",
        "\n",
        "A = np.array([[1, 2],\n",
        "             [4, -1]])\n",
        "B = np.array([[2, -3],\n",
        "             [-4, 1]])\n",
        "\n",
        "C = np.dot(A, B)\n",
        "\n",
        "print(C)"
      ],
      "metadata": {
        "colab": {
          "base_uri": "https://localhost:8080/",
          "height": 0
        },
        "id": "sd1WobHmBQXE",
        "outputId": "2b6288c8-1994-42b5-993d-f3f92a560f53"
      },
      "execution_count": 8,
      "outputs": [
        {
          "output_type": "stream",
          "name": "stdout",
          "text": [
            "[[ -6  -1]\n",
            " [ 12 -13]]\n"
          ]
        }
      ]
    },
    {
      "cell_type": "markdown",
      "source": [
        "#Завдання 2. Піднести маьртці до степеня.\n",
        "вар (1)"
      ],
      "metadata": {
        "id": "tm-GrDMjB110"
      }
    },
    {
      "cell_type": "code",
      "source": [
        "import numpy as np\n",
        "\n",
        "A = np.array([[-1, 2],\n",
        "              [0, 1]])\n",
        "\n",
        "A_squared = np.dot(A, A)\n",
        "\n",
        "print(A_squared)"
      ],
      "metadata": {
        "colab": {
          "base_uri": "https://localhost:8080/"
        },
        "id": "g5_57M-TCI4t",
        "outputId": "4c874a01-5603-40d3-90b5-51da121ec08f"
      },
      "execution_count": 9,
      "outputs": [
        {
          "output_type": "stream",
          "name": "stdout",
          "text": [
            "[[1 0]\n",
            " [0 1]]\n"
          ]
        }
      ]
    },
    {
      "cell_type": "markdown",
      "source": [
        "#Завдання 3. Знайти добуток матриць.\n",
        "Вар 1"
      ],
      "metadata": {
        "id": "i2Z98vKICmTx"
      }
    },
    {
      "cell_type": "code",
      "source": [
        "import numpy as np\n",
        "\n",
        "A = np.array([[3, 5],\n",
        "              [6, -1]])\n",
        "B = np.array([[2, 1],\n",
        "              [-3, 2]])\n",
        "\n",
        "C = np.dot(A, B)\n",
        "\n",
        "print(C)"
      ],
      "metadata": {
        "colab": {
          "base_uri": "https://localhost:8080/"
        },
        "id": "Sqx73_VbC0cC",
        "outputId": "3f4d1c16-75bb-4382-a116-80a36025347d"
      },
      "execution_count": 10,
      "outputs": [
        {
          "output_type": "stream",
          "name": "stdout",
          "text": [
            "[[-9 13]\n",
            " [15  4]]\n"
          ]
        }
      ]
    },
    {
      "cell_type": "markdown",
      "source": [
        "#Завдання 4. Знайти визначники.\n",
        "Вар (1)"
      ],
      "metadata": {
        "id": "c1iIQobEDQdl"
      }
    },
    {
      "cell_type": "code",
      "source": [
        "import numpy as np\n",
        "\n",
        "matrix = np.array([[2, 3, 4],\n",
        "                   [1, 0, 6],\n",
        "                   [7, 8, 9]])\n",
        "\n",
        "determinant = np.linalg.det(matrix)\n",
        "\n",
        "print(\"Визначник матриці:\", determinant)"
      ],
      "metadata": {
        "colab": {
          "base_uri": "https://localhost:8080/"
        },
        "id": "q6Ai0k9EDYg1",
        "outputId": "6826c99d-a1cf-466d-e023-e345b011b87b"
      },
      "execution_count": 11,
      "outputs": [
        {
          "output_type": "stream",
          "name": "stdout",
          "text": [
            "Визначник матриці: 35.00000000000001\n"
          ]
        }
      ]
    },
    {
      "cell_type": "markdown",
      "source": [
        "# Завдання 5. Обчислити визначники.\n",
        "Вар (1)"
      ],
      "metadata": {
        "id": "lhrtFeiLDy0x"
      }
    },
    {
      "cell_type": "code",
      "source": [
        "import numpy as np\n",
        "\n",
        "matrix = np.array([[1, 2, 3, 4],\n",
        "                   [-2, 1, -4, 3],\n",
        "                   [3, -4, -1, 2],\n",
        "                   [4, 3, -2, -1]])\n",
        "\n",
        "determinant = np.linalg.det(matrix)\n",
        "\n",
        "print(\"Визначник матриці:\", determinant)"
      ],
      "metadata": {
        "colab": {
          "base_uri": "https://localhost:8080/"
        },
        "id": "fHcFwjkZD9sP",
        "outputId": "ace5fbd0-779a-48f0-96aa-23594e7ae17b"
      },
      "execution_count": 12,
      "outputs": [
        {
          "output_type": "stream",
          "name": "stdout",
          "text": [
            "Визначник матриці: 900.0000000000009\n"
          ]
        }
      ]
    },
    {
      "cell_type": "markdown",
      "source": [
        "# Завдання 6. Знайти обернену матрицю до матриць.\n",
        "Вар (1)"
      ],
      "metadata": {
        "id": "5MxCni43EU6Z"
      }
    },
    {
      "cell_type": "code",
      "source": [
        "import numpy as np\n",
        "\n",
        "matrix = np.array([[1, 2, -3],\n",
        "                   [0, 1, 2],\n",
        "                   [0, 0, 1]])\n",
        "\n",
        "inverse_matrix = np.linalg.inv(matrix)\n",
        "\n",
        "print(\"Обернена матриця:\")\n",
        "print(inverse_matrix)"
      ],
      "metadata": {
        "colab": {
          "base_uri": "https://localhost:8080/"
        },
        "id": "KcArS-HEEh1U",
        "outputId": "e581c8bc-6678-4735-c10b-79118256c8a5"
      },
      "execution_count": 13,
      "outputs": [
        {
          "output_type": "stream",
          "name": "stdout",
          "text": [
            "Обернена матриця:\n",
            "[[ 1. -2.  7.]\n",
            " [ 0.  1. -2.]\n",
            " [ 0.  0.  1.]]\n"
          ]
        }
      ]
    },
    {
      "cell_type": "markdown",
      "source": [
        "# Завдання 7. Визначити ранг матриці.\n",
        "Вар (1)"
      ],
      "metadata": {
        "id": "osDVDjFsE5AJ"
      }
    },
    {
      "cell_type": "code",
      "source": [
        "import numpy as np\n",
        "\n",
        "matrix = np.array([[1, 2, 3, 4],\n",
        "                   [3, -1, 2, 5],\n",
        "                   [1, 2, 3, 4],\n",
        "                   [1, 3, 4, 5]])\n",
        "\n",
        "matrix_rank = np.linalg.matrix_rank(matrix)\n",
        "\n",
        "print(\"Ранг матриці:\", matrix_rank)"
      ],
      "metadata": {
        "colab": {
          "base_uri": "https://localhost:8080/"
        },
        "id": "UcVfZ-BXFDll",
        "outputId": "59f32803-f621-4b1c-d6aa-f41a21d4bf04"
      },
      "execution_count": 14,
      "outputs": [
        {
          "output_type": "stream",
          "name": "stdout",
          "text": [
            "Ранг матриці: 2\n"
          ]
        }
      ]
    },
    {
      "cell_type": "markdown",
      "source": [
        "# Завдання 8.\n",
        " Розв'язати систему лінійних рівнянь методом Крамера, матричним методом (тобто обчислити обернену матрицю) і м. Гауса. Потім зробити перевірку за допомогою solve() пакету linalg:\n",
        " Варіант 5"
      ],
      "metadata": {
        "id": "9pyczUaHFWWK"
      }
    },
    {
      "cell_type": "code",
      "source": [
        "import numpy as np\n",
        "\n",
        "A = np.array([[14, 4, 6],\n",
        "              [5, -3, 2],\n",
        "              [10, -11, 5]])\n",
        "b = np.array([30, 15, 36])\n",
        "\n",
        "# Метод Крамера\n",
        "def cramer(A, b):\n",
        "    det_A = np.linalg.det(A)\n",
        "    if det_A == 0:\n",
        "        print(\"Система не має єдиного розв'язку\")\n",
        "        return\n",
        "    det_Ax = np.linalg.det(np.column_stack((b, A[:,1], A[:,2])))\n",
        "    det_Ay = np.linalg.det(np.column_stack((A[:,0], b, A[:,2])))\n",
        "    det_Az = np.linalg.det(np.column_stack((A[:,0], A[:,1], b)))\n",
        "    x = det_Ax / det_A\n",
        "    y = det_Ay / det_A\n",
        "    z = det_Az / det_A\n",
        "    return x, y, z\n",
        "\n",
        "# Матричний метод\n",
        "def matrix_method(A, b):\n",
        "    if np.linalg.det(A) == 0:\n",
        "        print(\"Система не має єдиного розв'язку\")\n",
        "        return\n",
        "    A_inv = np.linalg.inv(A)\n",
        "    x = np.dot(A_inv, b)\n",
        "    return x\n",
        "\n",
        "# Метод Гаусса\n",
        "def gauss_method(A, b):\n",
        "    x = np.linalg.solve(A, b)\n",
        "    return x\n",
        "\n",
        "# Перевіряємо за допомогою solve()\n",
        "x_cramer, y_cramer, z_cramer = cramer(A, b)\n",
        "x_matrix, y_matrix, z_matrix = matrix_method(A, b)\n",
        "x_gauss, y_gauss, z_gauss = gauss_method(A, b)\n",
        "\n",
        "print(\"Розв'язок методом Крамера:\", x_cramer, y_cramer, z_cramer)\n",
        "print(\"Розв'язок матричним методом:\", x_matrix, y_matrix, z_matrix)\n",
        "print(\"Розв'язок методом Гаусса:\", x_gauss, y_gauss, z_gauss)"
      ],
      "metadata": {
        "colab": {
          "base_uri": "https://localhost:8080/"
        },
        "id": "8MPz3AQuGiER",
        "outputId": "6ed59780-f86e-449d-da3d-fa1ce6d27dbc"
      },
      "execution_count": 15,
      "outputs": [
        {
          "output_type": "stream",
          "name": "stdout",
          "text": [
            "Розв'язок методом Крамера: 2.0000000000000018 -1.0 0.9999999999999972\n",
            "Розв'язок матричним методом: 1.9999999999999987 -1.0000000000000004 1.0000000000000018\n",
            "Розв'язок методом Гаусса: 2.0 -1.0 1.0\n"
          ]
        }
      ]
    },
    {
      "cell_type": "markdown",
      "source": [
        "# Завдання 2.1.\n",
        "Вар 5\n",
        "Створіть прямокутну матрицю А, яка має № рядків і М стовпців з випадковими елементами. Знайдіть суму елементів всієї матриці. Визначте, яку долю в цій сумі складає сума елементів кожного рядка."
      ],
      "metadata": {
        "id": "w5ZO23zQHGnp"
      }
    },
    {
      "cell_type": "code",
      "source": [
        "import numpy as np\n",
        "\n",
        "def analyze_matrix(N, M):\n",
        "\n",
        "  matrix = np.random.rand(N, M)\n",
        "\n",
        "  total_sum = np.sum(matrix)\n",
        "\n",
        "  row_sums = np.sum(matrix, axis=1)\n",
        "  row_percentages = row_sums / total_sum * 100\n",
        "\n",
        "  return matrix, total_sum, row_percentages\n",
        "\n",
        "N = 4\n",
        "M = 5\n",
        "matrix, total_sum, row_percentages = analyze_matrix(N, M)\n",
        "\n",
        "print(\"Матриця:\\n\", matrix)\n",
        "print(\"Загальна сума:\", total_sum)\n",
        "print(\"Відсоткове співвідношення суми кожного рядка:\\n\", row_percentages)"
      ],
      "metadata": {
        "colab": {
          "base_uri": "https://localhost:8080/"
        },
        "id": "fDK31zzWHzNC",
        "outputId": "863facbd-5c10-4cb2-b534-0fc9aeb8a03c"
      },
      "execution_count": 17,
      "outputs": [
        {
          "output_type": "stream",
          "name": "stdout",
          "text": [
            "Матриця:\n",
            " [[0.14357107 0.01080109 0.30560247 0.67752305 0.39151896]\n",
            " [0.52765794 0.54530162 0.0090219  0.14558527 0.04973311]\n",
            " [0.00431051 0.26795403 0.01637264 0.19710253 0.55822892]\n",
            " [0.48138186 0.32748179 0.82002514 0.54289602 0.58250744]]\n",
            "Загальна сума: 6.604577332334843\n",
            "Відсоткове співвідношення суми кожного рядка:\n",
            " [23.15086281 19.33961515 15.80674375 41.7027783 ]\n"
          ]
        }
      ]
    }
  ]
}