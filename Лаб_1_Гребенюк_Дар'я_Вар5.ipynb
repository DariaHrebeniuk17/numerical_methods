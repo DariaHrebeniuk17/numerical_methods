{
  "nbformat": 4,
  "nbformat_minor": 0,
  "metadata": {
    "colab": {
      "provenance": [],
      "authorship_tag": "ABX9TyOtu4YikH/ru5yPl4JGl7Jp",
      "include_colab_link": true
    },
    "kernelspec": {
      "name": "python3",
      "display_name": "Python 3"
    },
    "language_info": {
      "name": "python"
    }
  },
  "cells": [
    {
      "cell_type": "markdown",
      "metadata": {
        "id": "view-in-github",
        "colab_type": "text"
      },
      "source": [
        "<a href=\"https://colab.research.google.com/github/DariaHrebeniuk17/numerical_methods/blob/main/%D0%9B%D0%B0%D0%B1_1_%D0%93%D1%80%D0%B5%D0%B1%D0%B5%D0%BD%D1%8E%D0%BA_%D0%94%D0%B0%D1%80'%D1%8F_%D0%92%D0%B0%D1%805.ipynb\" target=\"_parent\"><img src=\"https://colab.research.google.com/assets/colab-badge.svg\" alt=\"Open In Colab\"/></a>"
      ]
    },
    {
      "cell_type": "markdown",
      "source": [
        "Лабораторна робота 1. Теорія похибок.\n",
        "Гребенюк Д.С.\n",
        "ФІТ 2-8.\n",
        "Варіант 5\n"
      ],
      "metadata": {
        "id": "EgRdrNArNl9v"
      }
    },
    {
      "cell_type": "markdown",
      "source": [
        "#Завдання 1.\n",
        "Визначити, яка рівність точніша."
      ],
      "metadata": {
        "id": "xRcZclbbbR1n"
      }
    },
    {
      "cell_type": "code",
      "source": [
        "import math\n",
        "\n",
        "first_equality = math.sqrt(4.8) - 2.19\n",
        "\n",
        "second_equality = 6/7 - 0.857\n",
        "\n",
        "print(f\"Перша рівність: {first_equality:.6f}\")\n",
        "print(f\"Друга рівність: {second_equality:.6f}\")\n",
        "\n",
        "if abs(first_equality) < abs(second_equality):\n",
        "  print(\"Рівність √4.8 = 2.19 точніша.\")\n",
        "else:\n",
        "  print(\"Рівність 6/7 = 0.857 точніша.\")"
      ],
      "metadata": {
        "colab": {
          "base_uri": "https://localhost:8080/"
        },
        "id": "r9uOjviXbcC8",
        "outputId": "9d8f30ee-e317-472f-ebe0-dfdd72909c7f"
      },
      "execution_count": 7,
      "outputs": [
        {
          "output_type": "stream",
          "name": "stdout",
          "text": [
            "Перша рівність: 0.000890\n",
            "Друга рівність: 0.000143\n",
            "Рівність 6/7 = 0.857 точніша.\n"
          ]
        }
      ]
    },
    {
      "cell_type": "markdown",
      "source": [
        "#Завдання 2.\n",
        "Визначити кількість правильних значущих цифер наближеного числа. a) у вузькому розумінні, b) у широкому розумінні."
      ],
      "metadata": {
        "id": "NK-mOiEeSU1E"
      }
    },
    {
      "cell_type": "code",
      "source": [
        "def significant_digits(number, delta=None):\n",
        "\n",
        "  if delta is None:\n",
        "    return len(str(number).split('.')[0]) + len(str(number).split('.')[1])\n",
        "  else:\n",
        "    return len(str(delta).split('.')[1])\n",
        "\n",
        "number_a = 5.435\n",
        "delta_a = 0.0028\n",
        "\n",
        "number_b = 10.8441\n",
        "delta_b = 0.005 * number_b\n",
        "\n",
        "print(\"a) У вузькому розумінні:\", significant_digits(number_a))\n",
        "print(\"a) У широкому розумінні:\", significant_digits(number_a, delta_a))\n",
        "print(\"b) У вузькому розумінні:\", significant_digits(number_b))\n",
        "print(\"b) У широкому розумінні:\", significant_digits(number_b, delta_b))"
      ],
      "metadata": {
        "colab": {
          "base_uri": "https://localhost:8080/"
        },
        "id": "05mu-JCdTwfA",
        "outputId": "a1c2d0a0-7429-408f-b8d4-08d4a5180456"
      },
      "execution_count": 11,
      "outputs": [
        {
          "output_type": "stream",
          "name": "stdout",
          "text": [
            "a) У вузькому розумінні: 4\n",
            "a) У широкому розумінні: 4\n",
            "b) У вузькому розумінні: 6\n",
            "b) У широкому розумінні: 7\n"
          ]
        }
      ]
    },
    {
      "cell_type": "markdown",
      "source": [
        "#Завдання 3\n",
        "Знайти граничні абсолютні та відносні похибки чисел, якщо вони мають лише правильні цифри: а) у вузькому розумінні; б) у широкому розумінні."
      ],
      "metadata": {
        "id": "Tw_BIJLkUac4"
      }
    },
    {
      "cell_type": "code",
      "source": [
        "def calculate_errors(value):\n",
        "    decimal_places = len(str(value).split(\".\")[1])\n",
        "\n",
        "    absolute_error = 0.5 * 10**(-decimal_places)\n",
        "\n",
        "    relative_error = absolute_error / value\n",
        "\n",
        "    return absolute_error, relative_error\n",
        "\n",
        "value_a = 8.345\n",
        "value_b = 0.288\n",
        "\n",
        "absolute_error_a, relative_error_a = calculate_errors(value_a)\n",
        "absolute_error_b, relative_error_b = calculate_errors(value_b)\n",
        "\n",
        "(absolute_error_a, relative_error_a), (absolute_error_b, relative_error_b)\n"
      ],
      "metadata": {
        "colab": {
          "base_uri": "https://localhost:8080/"
        },
        "id": "PftQZa2xVD77",
        "outputId": "970dfc56-5055-4e39-e296-bab310742c70"
      },
      "execution_count": 10,
      "outputs": [
        {
          "output_type": "execute_result",
          "data": {
            "text/plain": [
              "((0.0005, 5.991611743559017e-05), (0.0005, 0.0017361111111111112))"
            ]
          },
          "metadata": {},
          "execution_count": 10
        }
      ]
    }
  ]
}